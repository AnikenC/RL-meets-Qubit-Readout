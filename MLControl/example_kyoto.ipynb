{
 "cells": [
  {
   "cell_type": "code",
   "execution_count": null,
   "metadata": {},
   "outputs": [],
   "source": [
    "# Importing Packages\n",
    "\n",
    "import numpy as np\n",
    "import matplotlib.pyplot as plt\n",
    "import time\n",
    "import copy\n",
    "\n",
    "from typing import Optional, Union\n",
    "\n",
    "import jax\n",
    "import jax.numpy as jnp\n",
    "from jax.scipy.special import erf\n",
    "from jax import jit, vmap, block_until_ready\n",
    "\n",
    "from utils import plot_learning\n",
    "from envs.single_photon_env import SinglePhotonLangevinReadoutEnv\n",
    "from env_configs import get_sherbrooke_config, get_kyoto_config\n",
    "\n",
    "from rl_algos.ppo_continuous import PPO_make_train"
   ]
  },
  {
   "cell_type": "code",
   "execution_count": null,
   "metadata": {},
   "outputs": [],
   "source": [
    "# Seeding everything\n",
    "\n",
    "seed = 30\n",
    "\n",
    "rng = jax.random.PRNGKey(seed)\n",
    "rng, _rng = jax.random.split(rng)"
   ]
  },
  {
   "cell_type": "code",
   "execution_count": null,
   "metadata": {},
   "outputs": [],
   "source": [
    "k_config = get_kyoto_config()\n",
    "k_env_config = copy.deepcopy(k_config)\n",
    "\n",
    "num_envs = 256\n",
    "num_updates = 6000\n",
    "kyoto_config = {\n",
    "    \"LR\": 3e-4,\n",
    "    \"NUM_ENVS\": num_envs,\n",
    "    \"NUM_STEPS\": 1,\n",
    "    \"NUM_UPDATES\": num_updates,\n",
    "    \"UPDATE_EPOCHS\": 4,\n",
    "    \"NUM_MINIBATCHES\": int(num_envs / 64),\n",
    "    \"CLIP_EPS\": 0.2,\n",
    "    \"VALUE_CLIP_EPS\": 0.2,\n",
    "    \"ENT_COEF\": 0.0,\n",
    "    \"VF_COEF\": 0.5,\n",
    "    \"MAX_GRAD_NORM\": 0.5,\n",
    "    \"ACTIVATION\": \"relu6\",\n",
    "    \"LAYER_SIZE\": 128,\n",
    "    \"ENV_NAME\": \"single_langevin_env\",\n",
    "    \"ENV_PARAMS\": k_env_config,\n",
    "    \"ANNEAL_LR\": False,\n",
    "    \"DEBUG\": True,\n",
    "    \"DEBUG_ACTION\": False,\n",
    "    \"PRINT_RATE\": 100,\n",
    "    \"ACTION_PRINT_RATE\": 100,\n",
    "}"
   ]
  },
  {
   "cell_type": "code",
   "execution_count": null,
   "metadata": {},
   "outputs": [],
   "source": [
    "kyoto_env = SinglePhotonLangevinReadoutEnv(**k_env_config)"
   ]
  },
  {
   "cell_type": "code",
   "execution_count": null,
   "metadata": {},
   "outputs": [],
   "source": [
    "k_env_config"
   ]
  },
  {
   "cell_type": "code",
   "execution_count": null,
   "metadata": {},
   "outputs": [],
   "source": [
    "# Default Kyoto Action\n",
    "\n",
    "ts = kyoto_env.ts_action\n",
    "\n",
    "gauss_sigma = 0.0142\n",
    "num_sigma = 2.\n",
    "total_duration = k_env_config[\"tau_0\"]\n",
    "\n",
    "default_pulse = jnp.heaviside((total_duration - num_sigma * gauss_sigma) - ts, 1.) * jnp.heaviside(ts - num_sigma * gauss_sigma, 0.)\n",
    "default_pulse += jnp.heaviside(num_sigma * gauss_sigma - ts, 1.) * jnp.exp(-(ts - num_sigma * gauss_sigma)**2 / (2 * gauss_sigma**2))\n",
    "default_pulse += jnp.heaviside(ts - (total_duration - num_sigma * gauss_sigma), 1.) * jnp.exp(-(ts - (total_duration - num_sigma * gauss_sigma))**2 / (2 * gauss_sigma**2))\n",
    "prepped_pulse = kyoto_env.prepare_action(default_pulse) / kyoto_env.a0\n",
    "\n",
    "manual_pulse = kyoto_env.normalize_pulse(default_pulse)\n",
    "manual_pulse = kyoto_env.drive_smoother(manual_pulse)\n",
    "res_drive_diff = jnp.diff(manual_pulse, n=1) / kyoto_env.grad_dt\n",
    "res_drive_diff_clipped = jnp.clip(\n",
    "    res_drive_diff, a_min=-kyoto_env.max_grad, a_max=kyoto_env.max_grad\n",
    ")\n",
    "res_drive_processed = jnp.cumsum(\n",
    "    jnp.concatenate((jnp.array([manual_pulse[0]]), res_drive_diff_clipped * kyoto_env.grad_dt))\n",
    ")\n",
    "manual_pulse = kyoto_env.gradient_clipper(manual_pulse)\n",
    "manual_pulse = kyoto_env.normalize_pulse(manual_pulse)\n",
    "manual_pulse = kyoto_env.drive_smoother(manual_pulse)\n",
    "\n",
    "plt.plot(ts, default_pulse, label='default kyoto pulse')\n",
    "plt.plot(ts, manual_pulse, label='manual kyoto pulse')\n",
    "plt.plot(ts, prepped_pulse, label='prepped kyoto pulse')\n",
    "plt.legend()\n",
    "plt.show()"
   ]
  },
  {
   "cell_type": "code",
   "execution_count": null,
   "metadata": {},
   "outputs": [],
   "source": [
    "kyoto_env.rollout_action(_rng, default_pulse)"
   ]
  },
  {
   "cell_type": "code",
   "execution_count": null,
   "metadata": {},
   "outputs": [],
   "source": [
    "# Important coefficients to be set, can be played around with\n",
    "k_env_config[\"time_coeff\"] = 2\n",
    "k_env_config[\"smoothness_coeff\"] = 1.\n",
    "\n",
    "k_env_config"
   ]
  },
  {
   "cell_type": "code",
   "execution_count": null,
   "metadata": {},
   "outputs": [],
   "source": [
    "mod_kyoto_config = {\n",
    "    \"LR\": 3e-4,\n",
    "    \"NUM_ENVS\": num_envs,\n",
    "    \"NUM_STEPS\": 1,\n",
    "    \"NUM_UPDATES\": num_updates,\n",
    "    \"UPDATE_EPOCHS\": 4,\n",
    "    \"NUM_MINIBATCHES\": int(num_envs / 64),\n",
    "    \"CLIP_EPS\": 0.2,\n",
    "    \"VALUE_CLIP_EPS\": 0.2,\n",
    "    \"ENT_COEF\": 0.0,\n",
    "    \"VF_COEF\": 0.5,\n",
    "    \"MAX_GRAD_NORM\": 0.5,\n",
    "    \"ACTIVATION\": \"relu6\",\n",
    "    \"LAYER_SIZE\": 128,\n",
    "    \"ENV_NAME\": \"single_langevin_env\",\n",
    "    \"ENV_PARAMS\": k_env_config,\n",
    "    \"ANNEAL_LR\": False,\n",
    "    \"DEBUG\": True,\n",
    "    \"DEBUG_ACTION\": False,\n",
    "    \"PRINT_RATE\": 100,\n",
    "    \"ACTION_PRINT_RATE\": 100,\n",
    "}"
   ]
  },
  {
   "cell_type": "code",
   "execution_count": null,
   "metadata": {},
   "outputs": [],
   "source": [
    "kyoto_train = jit(PPO_make_train(mod_kyoto_config), static_argnums=-1)\n",
    "\n",
    "print(f\"Starting a Run of {num_updates} Updates\")\n",
    "start = time.time()\n",
    "kyoto_result = kyoto_train(\n",
    "    _rng, \n",
    "    num_envs)\n",
    "end = time.time()\n",
    "print(f\"time taken: {end - start}\")"
   ]
  }
 ],
 "metadata": {
  "language_info": {
   "name": "python"
  }
 },
 "nbformat": 4,
 "nbformat_minor": 2
}
